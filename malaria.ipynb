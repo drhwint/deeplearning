{
 "cells": [
  {
   "cell_type": "code",
   "execution_count": 3,
   "metadata": {
    "collapsed": true
   },
   "outputs": [],
   "source": [
    "%matplotlib inline\n",
    "import PIL \n",
    "from PIL import Image\n",
    "import matplotlib.pyplot as plt"
   ]
  },
  {
   "cell_type": "code",
   "execution_count": 4,
   "metadata": {
    "collapsed": true
   },
   "outputs": [],
   "source": [
    "import os\n",
    "import numpy as np\n",
    "import random\n",
    "\n",
    "img_size = 128\n",
    "channel=3\n",
    "dataset_name='cell_images'\n",
    "train_proportion=0.7 # train set 비율 결정\n",
    "\n",
    "train_imgs = []\n",
    "train_imgs_1=[]\n",
    "train_imgs_2=[]\n",
    "train_labels = []\n",
    "train_labels_1=[]\n",
    "train_labels_2=[]\n",
    "test_imgs=[]\n",
    "test_imgs_1=[]\n",
    "test_imgs_2=[]\n",
    "test_labels=[]\n",
    "test_labels_1=[]\n",
    "test_labels_2=[]"
   ]
  },
  {
   "cell_type": "code",
   "execution_count": 5,
   "metadata": {
    "collapsed": true
   },
   "outputs": [],
   "source": [
    "folder='Uninfected'\n",
    "list_uninfected_number=len(os.listdir('./{}/{}'.format(dataset_name,folder)))\n",
    "list_uninfected=list(range(list_uninfected_number))\n",
    "\n",
    "folder='Parasitized'\n",
    "list_parasitized_number=len(os.listdir('./{}/{}'.format(dataset_name,folder)))\n",
    "list_parasitized=list(range(list_parasitized_number))\n",
    "\n",
    "random.seed(123)\n",
    "train_set1_list=random.sample(list_uninfected,int(list_uninfected_number*train_proportion))\n",
    "train_set2_list=random.sample(list_parasitized,int(list_parasitized_number*train_proportion))\n",
    "\n",
    "test_set1_list=list(set(list_uninfected)-set(train_set1_list))\n",
    "test_set2_list=list(set(list_parasitized)-set(train_set2_list))\n",
    "\n",
    "test_set1_list.sort()\n",
    "test_set2_list.sort()"
   ]
  },
  {
   "cell_type": "code",
   "execution_count": 6,
   "metadata": {
    "collapsed": true
   },
   "outputs": [],
   "source": [
    "#train image generation \n",
    "\n",
    "# Trainset from Uninfected list\n",
    "folder='Uninfected'\n",
    "for list_num in train_set1_list:\n",
    "    try:\n",
    "        file=os.listdir('./{}/{}'.format(dataset_name,folder))[list_num]\n",
    "        file_path='./{}/{}/{}'.format(dataset_name,folder,file)\n",
    "        img=Image.open(file_path)\n",
    "        img=img.resize((128,128))\n",
    "    \n",
    "        label_onehot = np.array([0,1])\n",
    "        train_imgs_1.append(np.array(img).reshape(channel*img_size*img_size))\n",
    "        train_labels_1.append(label_onehot)\n",
    "    except:\n",
    "        pass\n",
    "    \n",
    "# Trainset from Uninfected list\n",
    "folder='Parasitized'\n",
    "for list_num in train_set2_list:\n",
    "    try:\n",
    "        file=os.listdir('./{}/{}'.format(dataset_name,folder))[list_num]\n",
    "        file_path='./{}/{}/{}'.format(dataset_name,folder,file)\n",
    "        img=Image.open(file_path)\n",
    "        img=img.resize((128,128))\n",
    "    \n",
    "        label_onehot = np.array([1,0])\n",
    "        train_imgs_2.append(np.array(img).reshape(channel*img_size*img_size))\n",
    "        train_labels_2.append(label_onehot)\n",
    "    except:\n",
    "        pass\n",
    "    \n",
    "\n",
    "\n",
    "\n",
    "# Testset from Uninfected list\n",
    "folder='Uninfected'\n",
    "for list_num in test_set1_list:\n",
    "    try:\n",
    "        file=os.listdir('./{}/{}'.format(dataset_name,folder))[list_num]\n",
    "        file_path='./{}/{}/{}'.format(dataset_name,folder,file)\n",
    "        img=Image.open(file_path)\n",
    "        img=img.resize((128,128))\n",
    "    \n",
    "        label_onehot = np.array([0,1])\n",
    "        test_imgs_1.append(np.array(img).reshape(channel*img_size*img_size))\n",
    "        test_labels_1.append(label_onehot)\n",
    "    except:\n",
    "        pass\n",
    "\n",
    "# Testset from Uninfected list\n",
    "folder='Parasitized'\n",
    "for list_num in test_set2_list:\n",
    "    try:\n",
    "        file=os.listdir('./{}/{}'.format(dataset_name,folder))[list_num]\n",
    "        file_path='./{}/{}/{}'.format(dataset_name,folder,file)\n",
    "        img=Image.open(file_path)\n",
    "        img=img.resize((128,128))\n",
    "    \n",
    "        label_onehot = np.array([1,1])\n",
    "        test_imgs_2.append(np.array(img).reshape(channel*img_size*img_size))\n",
    "        test_labels_2.append(label_onehot)\n",
    "    except:\n",
    "        pass\n",
    "    \n"
   ]
  },
  {
   "cell_type": "code",
   "execution_count": 17,
   "metadata": {
    "collapsed": true
   },
   "outputs": [],
   "source": [
    "a=np.array(test_imgs_1)\n",
    "b=np.array(test_imgs_2)\n",
    "test_imgs=np.vstack((a,b))/255\n",
    "\n",
    "c=np.array(test_labels_1)\n",
    "d=np.array(test_labels_2)\n",
    "test_labels=np.vstack((c,d))\n",
    "\n",
    "a=np.array(train_imgs_1)\n",
    "b=np.array(train_imgs_2)\n",
    "train_imgs=np.vstack((a,b))/255\n",
    "\n",
    "c=np.array(train_labels_1)\n",
    "d=np.array(train_labels_2)\n",
    "train_labels=np.vstack((c,d))"
   ]
  },
  {
   "cell_type": "code",
   "execution_count": 21,
   "metadata": {},
   "outputs": [],
   "source": [
    "# array reshape \n",
    "train_imgs=np.array(train_imgs).reshape(len(train_imgs),128,128,3)\n",
    "train_labels=np.array(train_labels).reshape(len(train_labels),2)\n",
    "\n",
    "test_imgs=np.array(test_imgs).reshape(len(test_imgs),128,128,3)\n",
    "test_labels=np.array(test_labels).reshape(len(test_labels),2)"
   ]
  },
  {
   "cell_type": "code",
   "execution_count": 13,
   "metadata": {},
   "outputs": [],
   "source": [
    "import keras\n",
    "from keras.models import Sequential\n",
    "from keras.layers import Dense, Dropout, Flatten\n",
    "from keras.layers import Conv2D, MaxPooling2D\n",
    "from keras.optimizers import Adam"
   ]
  },
  {
   "cell_type": "code",
   "execution_count": 22,
   "metadata": {},
   "outputs": [
    {
     "name": "stdout",
     "output_type": "stream",
     "text": [
      "_________________________________________________________________\n",
      "Layer (type)                 Output Shape              Param #   \n",
      "=================================================================\n",
      "conv2d_6 (Conv2D)            (None, 128, 128, 16)      448       \n",
      "_________________________________________________________________\n",
      "max_pooling2d_6 (MaxPooling2 (None, 64, 64, 16)        0         \n",
      "_________________________________________________________________\n",
      "conv2d_7 (Conv2D)            (None, 64, 64, 32)        4640      \n",
      "_________________________________________________________________\n",
      "max_pooling2d_7 (MaxPooling2 (None, 32, 32, 32)        0         \n",
      "_________________________________________________________________\n",
      "conv2d_8 (Conv2D)            (None, 32, 32, 64)        18496     \n",
      "_________________________________________________________________\n",
      "max_pooling2d_8 (MaxPooling2 (None, 16, 16, 64)        0         \n",
      "_________________________________________________________________\n",
      "conv2d_9 (Conv2D)            (None, 16, 16, 128)       73856     \n",
      "_________________________________________________________________\n",
      "max_pooling2d_9 (MaxPooling2 (None, 8, 8, 128)         0         \n",
      "_________________________________________________________________\n",
      "conv2d_10 (Conv2D)           (None, 8, 8, 128)         147584    \n",
      "_________________________________________________________________\n",
      "max_pooling2d_10 (MaxPooling (None, 4, 4, 128)         0         \n",
      "_________________________________________________________________\n",
      "flatten_2 (Flatten)          (None, 2048)              0         \n",
      "_________________________________________________________________\n",
      "dense_3 (Dense)              (None, 1024)              2098176   \n",
      "_________________________________________________________________\n",
      "dense_4 (Dense)              (None, 2)                 2050      \n",
      "=================================================================\n",
      "Total params: 2,345,250\n",
      "Trainable params: 2,345,250\n",
      "Non-trainable params: 0\n",
      "_________________________________________________________________\n"
     ]
    }
   ],
   "source": [
    "model=Sequential()\n",
    "\n",
    "model.add(Conv2D(16,kernel_size=(3,3),activation='relu',input_shape=(128,128,3),padding='same')) \n",
    "model.add(MaxPooling2D(pool_size=(2, 2)))\n",
    "model.add(Conv2D(32,kernel_size=(3,3),activation='relu',padding='same'))\n",
    "model.add(MaxPooling2D(pool_size=(2, 2)))\n",
    "model.add(Conv2D(64,kernel_size=(3,3),activation='relu',padding='same'))\n",
    "model.add(MaxPooling2D(pool_size=(2, 2)))\n",
    "model.add(Conv2D(128,kernel_size=(3,3),activation='relu',padding='same'))\n",
    "model.add(MaxPooling2D(pool_size=(2, 2)))\n",
    "model.add(Conv2D(128,kernel_size=(3,3),activation='relu',padding='same'))\n",
    "model.add(MaxPooling2D(pool_size=(2, 2)))\n",
    "model.add(Flatten())\n",
    "model.add(Dense(1024, activation='linear'))\n",
    "model.add(Dense(2, activation='softmax'))\n",
    "\n",
    "model.summary()"
   ]
  },
  {
   "cell_type": "code",
   "execution_count": 23,
   "metadata": {},
   "outputs": [
    {
     "name": "stdout",
     "output_type": "stream",
     "text": [
      "Train on 19289 samples, validate on 8269 samples\n",
      "Epoch 1/20\n",
      "19289/19289 [==============================] - 21s 1ms/step - loss: 0.3137 - acc: 0.8505 - val_loss: 4.6996 - val_acc: 0.9543\n",
      "Epoch 2/20\n",
      "19289/19289 [==============================] - 20s 1ms/step - loss: 0.1457 - acc: 0.9539 - val_loss: 4.3489 - val_acc: 0.9561\n",
      "Epoch 3/20\n",
      "19289/19289 [==============================] - 20s 1ms/step - loss: 0.1292 - acc: 0.9578 - val_loss: 4.6687 - val_acc: 0.9545\n",
      "Epoch 4/20\n",
      "19289/19289 [==============================] - 20s 1ms/step - loss: 0.1221 - acc: 0.9597 - val_loss: 5.1824 - val_acc: 0.9568\n",
      "Epoch 5/20\n",
      "19289/19289 [==============================] - 20s 1ms/step - loss: 0.1148 - acc: 0.9612 - val_loss: 5.0440 - val_acc: 0.9554\n",
      "Epoch 6/20\n",
      "19289/19289 [==============================] - 20s 1ms/step - loss: 0.1102 - acc: 0.9627 - val_loss: 4.3090 - val_acc: 0.9539\n",
      "Epoch 7/20\n",
      "19289/19289 [==============================] - 20s 1ms/step - loss: 0.1010 - acc: 0.9654 - val_loss: 4.9166 - val_acc: 0.9589\n",
      "Epoch 8/20\n",
      "19289/19289 [==============================] - 20s 1ms/step - loss: 0.0930 - acc: 0.9681 - val_loss: 4.1369 - val_acc: 0.9465\n",
      "Epoch 9/20\n",
      "19289/19289 [==============================] - 20s 1ms/step - loss: 0.0896 - acc: 0.9698 - val_loss: 6.1541 - val_acc: 0.9578\n",
      "Epoch 10/20\n",
      "19289/19289 [==============================] - 20s 1ms/step - loss: 0.0811 - acc: 0.9721 - val_loss: 5.6183 - val_acc: 0.9543\n",
      "Epoch 11/20\n",
      "19289/19289 [==============================] - 20s 1ms/step - loss: 0.0715 - acc: 0.9753 - val_loss: 5.7602 - val_acc: 0.9577\n",
      "Epoch 12/20\n",
      "19289/19289 [==============================] - 21s 1ms/step - loss: 0.0625 - acc: 0.9783 - val_loss: 6.9732 - val_acc: 0.9553\n",
      "Epoch 13/20\n",
      "19289/19289 [==============================] - 20s 1ms/step - loss: 0.0563 - acc: 0.9810 - val_loss: 6.5622 - val_acc: 0.9546\n"
     ]
    }
   ],
   "source": [
    "adam=keras.optimizers.Adam(lr=0.001)\n",
    "model.compile(loss='categorical_crossentropy', optimizer=adam, metrics=['accuracy'])\n",
    "\n",
    "from keras.callbacks import EarlyStopping\n",
    "early_stopping = EarlyStopping(patience = 5) # 조기종료 콜백함수 정의\n",
    "\n",
    "hist = model.fit(train_imgs, train_labels, epochs=20, batch_size=64,\n",
    "                 validation_data=(test_imgs, test_labels),\n",
    "                 callbacks=[early_stopping])"
   ]
  },
  {
   "cell_type": "code",
   "execution_count": 24,
   "metadata": {},
   "outputs": [
    {
     "data": {
      "image/png": "[encoded data removed]",
      "text/plain": [
       "<Figure size 432x288 with 2 Axes>"
      ]
     },
     "metadata": {},
     "output_type": "display_data"
    }
   ],
   "source": [
    "%matplotlib inline\n",
    "import matplotlib.pyplot as plt\n",
    "\n",
    "fig, loss_ax = plt.subplots()\n",
    "\n",
    "acc_ax = loss_ax.twinx()\n",
    "\n",
    "loss_ax.plot(hist.history['loss'], 'y', label='train loss')\n",
    "loss_ax.plot(hist.history['val_loss'], 'r', label='val loss')\n",
    "loss_ax.set_ylim([0.2, 0.8])\n",
    "\n",
    "acc_ax.plot(hist.history['acc'], 'b', label='train acc')\n",
    "acc_ax.plot(hist.history['val_acc'], 'g', label='val acc')\n",
    "acc_ax.set_ylim([0.2, 1.0])\n",
    "\n",
    "loss_ax.set_xlabel('epoch')\n",
    "loss_ax.set_ylabel('loss')\n",
    "acc_ax.set_ylabel('accuray')\n",
    "\n",
    "loss_ax.legend(loc='upper left')\n",
    "acc_ax.legend(loc='lower left')\n",
    "\n",
    "plt.show()"
   ]
  },
  {
   "cell_type": "code",
   "execution_count": null,
   "metadata": {
    "collapsed": true
   },
   "outputs": [],
   "source": []
  },
  {
   "cell_type": "code",
   "execution_count": null,
   "metadata": {
    "collapsed": true
   },
   "outputs": [],
   "source": []
  }
 ],
 "metadata": {
  "kernelspec": {
   "display_name": "Python 3",
   "language": "python",
   "name": "python3"
  },
  "language_info": {
   "codemirror_mode": {
    "name": "ipython",
    "version": 3
   },
   "file_extension": ".py",
   "mimetype": "text/x-python",
   "name": "python",
   "nbconvert_exporter": "python",
   "pygments_lexer": "ipython3",
   "version": "3.6.3"
  }
 },
 "nbformat": 4,
 "nbformat_minor": 2
}
